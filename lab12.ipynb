{
  "nbformat": 4,
  "nbformat_minor": 0,
  "metadata": {
    "colab": {
      "name": "lab12.ipynb",
      "private_outputs": true,
      "provenance": [],
      "collapsed_sections": [],
      "toc_visible": true
    },
    "kernelspec": {
      "display_name": "Python 3",
      "name": "python3"
    }
  },
  "cells": [
    {
      "cell_type": "markdown",
      "metadata": {
        "id": "wU2SvAss0Le-"
      },
      "source": [
        "**Zad 1**"
      ]
    },
    {
      "cell_type": "code",
      "metadata": {
        "id": "IJihqZ7TLYCp"
      },
      "source": [
        "!pip install tensorflow-graphics\n",
        "!pip install trimesh"
      ],
      "execution_count": null,
      "outputs": []
    },
    {
      "cell_type": "code",
      "metadata": {
        "id": "Qy1CfOu7ioF8"
      },
      "source": [
        "import numpy as np\n",
        "import tensorflow as tf\n",
        "import trimesh\n",
        "\n",
        "import tensorflow_graphics.geometry.transformation as tfg_transformation\n",
        "from tensorflow_graphics.notebooks import threejs_visualization"
      ],
      "execution_count": null,
      "outputs": []
    },
    {
      "cell_type": "code",
      "metadata": {
        "id": "39Vm7iSONAHs"
      },
      "source": [
        "# Download the mesh.\n",
        "# Courtesy of Keenan Crane www.cs.cmu.edu/~kmcrane/Projects/ModelRepository/.\n",
        "!wget -N https://storage.googleapis.com/tensorflow-graphics/notebooks/index/cow.obj\n",
        "# Load the mesh.\n",
        "mesh = trimesh.load(\"cow.obj\")\n",
        "mesh = {\"vertices\": mesh.vertices, \"faces\": mesh.faces}\n",
        "# Visualize the original mesh.\n",
        "_ = threejs_visualization.triangular_mesh_renderer(mesh, width=400, height=400)\n",
        "# Set the axis and angle parameters.\n",
        "axis = np.array((0., 1., 0.))  # y axis.\n",
        "angle = np.array((np.pi / 4.,))  # 45 degree angle.\n",
        "# Rotate the mesh.\n",
        "mesh[\"vertices\"] = tfg_transformation.axis_angle.rotate(mesh[\"vertices\"], axis,\n",
        "                                                        angle).numpy()\n",
        "# Visualize the rotated mesh.\n",
        "_ = threejs_visualization.triangular_mesh_renderer(mesh, width=400, height=400)"
      ],
      "execution_count": null,
      "outputs": []
    },
    {
      "cell_type": "markdown",
      "metadata": {
        "id": "hofPTIsD0UQD"
      },
      "source": [
        "**Zad 2**"
      ]
    },
    {
      "cell_type": "code",
      "metadata": {
        "id": "7QTBnTSJ0Xk0"
      },
      "source": [
        "\r\n",
        "mesh = trimesh.load(\"bob.obj\")\r\n",
        "mesh = {\"vertices\": mesh.vertices, \"faces\": mesh.faces}\r\n",
        "\r\n",
        "_ = threejs_visualization.triangular_mesh_renderer(mesh, width=400, height=400)\r\n",
        "\r\n",
        "axis = np.array((0., 1., 0.))  \r\n",
        "angle = np.array((np.pi / 4.,))\r\n",
        "\r\n",
        "mesh[\"vertices\"] = tfg_transformation.axis_angle.rotate(mesh[\"vertices\"], axis,\r\n",
        "                                                        angle).numpy()\r\n",
        "\r\n",
        "_ = threejs_visualization.triangular_mesh_renderer(mesh, width=400, height=400)"
      ],
      "execution_count": null,
      "outputs": []
    }
  ]
}